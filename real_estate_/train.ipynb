{
 "cells": [
  {
   "cell_type": "code",
   "execution_count": null,
   "id": "47a0f24b-b180-41f9-b03e-28be2171d95f",
   "metadata": {},
   "outputs": [],
   "source": [
    "import pandas as pd\n",
    "\n"
   ]
  },
  {
   "cell_type": "code",
   "execution_count": null,
   "id": "3ef1d646-ac92-477a-9c21-5896bc5ccee1",
   "metadata": {},
   "outputs": [],
   "source": [
    "df = pd.read_csv(\"data.csv\")"
   ]
  },
  {
   "cell_type": "code",
   "execution_count": null,
   "id": "c31546b4-18ed-4b62-8ea9-eff1a1daad72",
   "metadata": {},
   "outputs": [],
   "source": [
    "df.describe()"
   ]
  },
  {
   "cell_type": "code",
   "execution_count": null,
   "id": "4d202f0a-e910-46a1-9703-0453d494b1c5",
   "metadata": {},
   "outputs": [],
   "source": [
    "df.head()"
   ]
  },
  {
   "cell_type": "code",
   "execution_count": null,
   "id": "96765cee-a735-4bd8-8d13-5e9ed56364c9",
   "metadata": {},
   "outputs": [],
   "source": [
    "df.shape"
   ]
  },
  {
   "cell_type": "code",
   "execution_count": null,
   "id": "81a6a41e-df39-48c6-b8a7-95ae1aee7a3a",
   "metadata": {},
   "outputs": [],
   "source": [
    "df.isnull().sum()"
   ]
  },
  {
   "cell_type": "code",
   "execution_count": null,
   "id": "25aeae1e-831b-423e-9c09-32bde2abe572",
   "metadata": {},
   "outputs": [],
   "source": [
    "df2 = df.dropna()"
   ]
  },
  {
   "cell_type": "code",
   "execution_count": null,
   "id": "af637854-da0f-4fb7-9ed3-1a12bf0c27ef",
   "metadata": {},
   "outputs": [],
   "source": [
    "df2.shape"
   ]
  },
  {
   "cell_type": "code",
   "execution_count": null,
   "id": "9789115a-8009-4dc4-9b5e-664ce06e52f9",
   "metadata": {},
   "outputs": [],
   "source": [
    "df2['prix'] = df2['prix'].apply(lambda x: int(str(x).replace(',', '')))"
   ]
  },
  {
   "cell_type": "code",
   "execution_count": null,
   "id": "d5560dc1-15b9-411f-9675-e8a41548f5c0",
   "metadata": {},
   "outputs": [],
   "source": [
    "df2[df2['prix'] < 100000].count()"
   ]
  },
  {
   "cell_type": "code",
   "execution_count": null,
   "id": "b4ed7515-ff41-495d-b5f5-2721d365673a",
   "metadata": {},
   "outputs": [],
   "source": [
    "df2 = df2[df2['prix'] >= 100000]"
   ]
  },
  {
   "cell_type": "code",
   "execution_count": null,
   "id": "5041c04f-2511-4714-8144-f0c68180e894",
   "metadata": {},
   "outputs": [],
   "source": [
    "df2.shape"
   ]
  },
  {
   "cell_type": "code",
   "execution_count": null,
   "id": "010ab007-707b-4819-9242-56cf15cf7c00",
   "metadata": {},
   "outputs": [],
   "source": [
    "df2.head()"
   ]
  },
  {
   "cell_type": "code",
   "execution_count": null,
   "id": "6a2e402d-0555-4e85-a6fe-9bade851348d",
   "metadata": {},
   "outputs": [],
   "source": [
    "df2['city'] = df2['ville'].str.extract(r'dans\\s+([^,]+)')"
   ]
  },
  {
   "cell_type": "code",
   "execution_count": null,
   "id": "eb6d76d4-5eb5-42b9-bc4e-117881f89983",
   "metadata": {},
   "outputs": [],
   "source": [
    "df2.head(50)"
   ]
  },
  {
   "cell_type": "code",
   "execution_count": null,
   "id": "bab3a70d-6013-4d82-9b0b-55490d2b8e8f",
   "metadata": {},
   "outputs": [],
   "source": [
    "df2['secteur'] = df2['ville'].str.extract(r',\\s*([^,]+)(?:\\s*,|$)')"
   ]
  },
  {
   "cell_type": "code",
   "execution_count": null,
   "id": "88191491-dbca-4106-8138-fa055bc20663",
   "metadata": {},
   "outputs": [],
   "source": [
    "df2.head(50)"
   ]
  },
  {
   "cell_type": "code",
   "execution_count": null,
   "id": "143e3066-a303-4e78-bbb3-591dd47a5c13",
   "metadata": {},
   "outputs": [],
   "source": [
    "df2 = df2.drop('ville', axis=1)\n",
    "df2 = df2.rename(columns={'city': 'ville'})"
   ]
  },
  {
   "cell_type": "code",
   "execution_count": null,
   "id": "372a513b-7d4c-449b-84a5-afbc33ae8cdd",
   "metadata": {},
   "outputs": [],
   "source": [
    "df2.head()"
   ]
  },
  {
   "cell_type": "code",
   "execution_count": null,
   "id": "bfcadcda-2e35-4641-b348-557c61695b71",
   "metadata": {},
   "outputs": [],
   "source": [
    "df2['superficie'] = df2['superficie'].str.extract('(\\d+)').fillna(0).astype(int)"
   ]
  },
  {
   "cell_type": "code",
   "execution_count": null,
   "id": "5a28ee2b-7407-4fa5-84b9-d3289384c763",
   "metadata": {},
   "outputs": [],
   "source": [
    "df2.tail()"
   ]
  },
  {
   "cell_type": "code",
   "execution_count": null,
   "id": "79119d47-4980-4ae9-9355-4d1752056c66",
   "metadata": {},
   "outputs": [],
   "source": [
    "df2.shape"
   ]
  },
  {
   "cell_type": "code",
   "execution_count": null,
   "id": "1fc2f7a9-31d8-4a3b-8e99-1d4d110189d9",
   "metadata": {},
   "outputs": [],
   "source": [
    "# Handle '10+ ' case and convert to int\n",
    "df2['chambres'] = df2['chambres'].apply(lambda x: int(x.replace('+', '').strip()))\n",
    "df2['salles_de_bain'] = df2['salles_de_bain'].apply(lambda x: int(x.replace('+', '').strip()))"
   ]
  },
  {
   "cell_type": "code",
   "execution_count": null,
   "id": "63603ab8-a69c-418c-be18-bc2ffe8dc138",
   "metadata": {},
   "outputs": [],
   "source": [
    "df2 = df2.rename(columns={'superficie': 'superficie en m²'})"
   ]
  },
  {
   "cell_type": "code",
   "execution_count": null,
   "id": "34183a9a-703c-4830-9949-edb045deb4e4",
   "metadata": {},
   "outputs": [],
   "source": [
    "df2.head()"
   ]
  },
  {
   "cell_type": "code",
   "execution_count": null,
   "id": "3b59df48-2564-42fe-b476-9e156dcab0ff",
   "metadata": {},
   "outputs": [],
   "source": [
    "df2[df2['superficie en m²'] == 0].count()"
   ]
  },
  {
   "cell_type": "code",
   "execution_count": null,
   "id": "f5f0bfdb-b3a9-47a0-8aba-803a15ee9780",
   "metadata": {},
   "outputs": [],
   "source": [
    "df2 = df2[df2['superficie en m²'] != 0]"
   ]
  },
  {
   "cell_type": "code",
   "execution_count": null,
   "id": "c41ee950-ed93-4547-b9f5-2249f9804d34",
   "metadata": {},
   "outputs": [],
   "source": [
    "df2.shape"
   ]
  },
  {
   "cell_type": "code",
   "execution_count": null,
   "id": "2673f0fe-f19c-4636-9c49-961fd1db30bb",
   "metadata": {},
   "outputs": [],
   "source": [
    "df2[df2['prix'] == 2000000000]"
   ]
  },
  {
   "cell_type": "code",
   "execution_count": null,
   "id": "f3275c5c-8ca3-49fb-80a9-5052ec61a2b0",
   "metadata": {},
   "outputs": [],
   "source": [
    "df3 = df2.groupby('secteur')['secteur'].agg('count').sort_values(ascending=False)"
   ]
  },
  {
   "cell_type": "code",
   "execution_count": null,
   "id": "aed46409-22ee-4f70-a5fd-70f07f8403f5",
   "metadata": {},
   "outputs": [],
   "source": [
    "df2 = df2.drop('secteur', axis=1)"
   ]
  },
  {
   "cell_type": "code",
   "execution_count": null,
   "id": "6279ae66-bec8-4d99-9989-23932eae7ade",
   "metadata": {},
   "outputs": [],
   "source": [
    "df2.head()"
   ]
  },
  {
   "cell_type": "code",
   "execution_count": null,
   "id": "cc5fd8bc-192e-4270-8208-40eb6cd2b953",
   "metadata": {},
   "outputs": [],
   "source": [
    "df4 = df2.groupby('type')['type'].agg('count')\n",
    "df4.head()"
   ]
  },
  {
   "cell_type": "code",
   "execution_count": null,
   "id": "fb2a2433-c73d-4303-992f-793caf75477a",
   "metadata": {},
   "outputs": [],
   "source": [
    "villa_count = df2[\n",
    "   ((df2['titre'].str.contains('villa', case=False)) | \n",
    "    (df2['titre'].str.contains('فيلا', case=False))) & \n",
    "   (df2['type'] == 'Maison et Villa')\n",
    "].shape[0]\n",
    "\n",
    "villa_count"
   ]
  },
  {
   "cell_type": "code",
   "execution_count": null,
   "id": "1e28ddcd-bdbf-405c-b9ef-e56e9527867a",
   "metadata": {},
   "outputs": [],
   "source": [
    "df2.loc[\n",
    "   ((df2['titre'].str.contains('villa', case=False)) | \n",
    "    (df2['titre'].str.contains('فيلا', case=False))) & \n",
    "   (df2['type'] == 'Maison et Villa'),\n",
    "   'type'\n",
    "] = 'Villa et Riad'"
   ]
  },
  {
   "cell_type": "code",
   "execution_count": null,
   "id": "7eb379b9-01b0-4e58-b653-d8389934cee6",
   "metadata": {},
   "outputs": [],
   "source": [
    "df3 = df2.groupby('type')['type'].agg('count')"
   ]
  },
  {
   "cell_type": "code",
   "execution_count": null,
   "id": "29dbab91-d72a-4849-96b9-e2d33b195cea",
   "metadata": {},
   "outputs": [],
   "source": [
    "df3.head(50)"
   ]
  },
  {
   "cell_type": "code",
   "execution_count": null,
   "id": "8fba6acb-effa-4039-b024-248664d4056b",
   "metadata": {},
   "outputs": [],
   "source": [
    "df2 = df2[df2['superficie en m²'] >= 10]"
   ]
  },
  {
   "cell_type": "code",
   "execution_count": null,
   "id": "1d523f21-18df-409d-a7d2-3b0c5ce6a7fd",
   "metadata": {},
   "outputs": [],
   "source": [
    "df2[df2['superficie en m²'] ==13]"
   ]
  },
  {
   "cell_type": "code",
   "execution_count": null,
   "id": "d10a1289-6dfa-43a6-a898-7f5555c7dcc0",
   "metadata": {},
   "outputs": [],
   "source": [
    "df2.shape"
   ]
  },
  {
   "cell_type": "code",
   "execution_count": null,
   "id": "c178c2c5-7aed-4441-9bde-293529cea666",
   "metadata": {},
   "outputs": [],
   "source": [
    "df2[df2['superficie en m²'] == 25]"
   ]
  },
  {
   "cell_type": "code",
   "execution_count": null,
   "id": "7f50aed3-58ce-4670-9a66-192fa1efea35",
   "metadata": {},
   "outputs": [],
   "source": [
    "mask = df2['titre'].str.contains(r'\\d+\\s*m²', case=False, na=False)\n",
    "df2.loc[mask, 'superficie en m²'] = df2.loc[mask, 'titre'].str.extract(r'(\\d+)\\s*m²')[0].fillna(df2.loc[mask, 'superficie en m²']).astype(int)"
   ]
  },
  {
   "cell_type": "code",
   "execution_count": null,
   "id": "659ea002-a9d7-4976-ac47-e4d1e43d8187",
   "metadata": {},
   "outputs": [],
   "source": [
    " df2[(df2['superficie en m²'] == 46) & (df2['prix'] ==350000 \t)]"
   ]
  },
  {
   "cell_type": "code",
   "execution_count": null,
   "id": "8957602a-a5d9-4885-b25a-2c133d0882cc",
   "metadata": {},
   "outputs": [],
   "source": [
    "df2 = df2.drop('titre', axis=1)"
   ]
  },
  {
   "cell_type": "code",
   "execution_count": null,
   "id": "aa34c805-5966-4169-8f80-c13f57a7dba5",
   "metadata": {},
   "outputs": [],
   "source": [
    "df2.shape"
   ]
  },
  {
   "cell_type": "code",
   "execution_count": null,
   "id": "9bd9c8c9-561d-4155-8756-1f6819205ca2",
   "metadata": {},
   "outputs": [],
   "source": [
    "df2.head()"
   ]
  },
  {
   "cell_type": "code",
   "execution_count": null,
   "id": "0d195327-db8a-4ffd-b289-d490e039ea58",
   "metadata": {},
   "outputs": [],
   "source": [
    "df2[(df2['prix'] > 5000000) & (df2['superficie en m²'] < 200) & (df2['type'] == 'appartement')]"
   ]
  },
  {
   "cell_type": "code",
   "execution_count": null,
   "id": "2eb9a574-d1b0-4a3b-b428-61a975a9582f",
   "metadata": {},
   "outputs": [],
   "source": [
    "mask = (df2['prix'] > 5000000) & (df2['superficie en m²'] < 200) & (df2['type'] == 'appartement')\n",
    "df2 = df2[~mask]"
   ]
  },
  {
   "cell_type": "code",
   "execution_count": null,
   "id": "c050b515-8704-4141-b0a4-735f3a354dd0",
   "metadata": {},
   "outputs": [],
   "source": [
    "df2.shape"
   ]
  },
  {
   "cell_type": "code",
   "execution_count": null,
   "id": "e4f7fca6-7444-472f-9b27-43df686701e6",
   "metadata": {},
   "outputs": [],
   "source": [
    "mask = (df2['prix'] > 5000000) & (df2['type'] == 'appartement')\n",
    "df2 = df2[~mask]"
   ]
  },
  {
   "cell_type": "code",
   "execution_count": null,
   "id": "e1d20419-e354-4079-8028-038aa0ecb9fb",
   "metadata": {},
   "outputs": [],
   "source": [
    "df2.shape"
   ]
  },
  {
   "cell_type": "code",
   "execution_count": null,
   "id": "0b8797e9-047d-4a7c-908b-ec4f1db9c5b3",
   "metadata": {},
   "outputs": [],
   "source": [
    "mask = (df2['prix'] < 200000) & (df2['type'] == 'appartement')\n",
    "df2 = df2[~mask]\n",
    "df2.shape"
   ]
  },
  {
   "cell_type": "code",
   "execution_count": null,
   "id": "e931ec5f-14fa-4a15-a6b9-96565edbc9c4",
   "metadata": {},
   "outputs": [],
   "source": [
    "mask = (df2['prix'] < 300000) & (df2['superficie en m²'] >60) & (df2['type'] == 'appartement')\n",
    "df2 = df2[~mask]"
   ]
  },
  {
   "cell_type": "code",
   "execution_count": null,
   "id": "7840842d-6d54-4b75-868f-9a46038ceb44",
   "metadata": {},
   "outputs": [],
   "source": [
    "df2.shape"
   ]
  },
  {
   "cell_type": "code",
   "execution_count": null,
   "id": "3faf0afa-d95c-4e15-9078-402a2fc9dafe",
   "metadata": {},
   "outputs": [],
   "source": [
    "maskk = (df2['prix'] > 5000000) & (df2['type'] == 'Maison et Villa')\n",
    "df2 = df2[~maskk]"
   ]
  },
  {
   "cell_type": "code",
   "execution_count": null,
   "id": "7a89eed4-7d7b-43e2-b2e1-c43a4bca3b88",
   "metadata": {},
   "outputs": [],
   "source": [
    "df2.shape"
   ]
  },
  {
   "cell_type": "code",
   "execution_count": null,
   "id": "a6170ba2-b893-4511-8636-38eb184171a2",
   "metadata": {},
   "outputs": [],
   "source": [
    "maskk = (df2['prix'] < 500000) & (df2['superficie en m²'] > 40) & (df2['type'] == 'Maison et Villa')\n",
    "df2 = df2[~maskk]"
   ]
  },
  {
   "cell_type": "code",
   "execution_count": null,
   "id": "f44f038a-ff1d-45e7-9848-f226b7e8f30f",
   "metadata": {},
   "outputs": [],
   "source": [
    "df2.shape"
   ]
  },
  {
   "cell_type": "code",
   "execution_count": null,
   "id": "b267be3d-d588-42a9-a251-cd2f05081419",
   "metadata": {},
   "outputs": [],
   "source": [
    "maskk = (df2['prix'] < 300000) & (df2['type'] == 'Maison et Villa')\n",
    "df2 = df2[~maskk]"
   ]
  },
  {
   "cell_type": "code",
   "execution_count": null,
   "id": "661c901c-4711-48ca-92c9-a4d952ee647e",
   "metadata": {},
   "outputs": [],
   "source": [
    "df2.shape"
   ]
  },
  {
   "cell_type": "code",
   "execution_count": null,
   "id": "f66c252d-1fe7-48b4-8288-e4836d59cb8d",
   "metadata": {},
   "outputs": [],
   "source": [
    "maskt = (df2['prix'] < 1000000) & (df2['type'] == 'Villa et Riad') \n",
    "df2 = df2[~maskt]"
   ]
  },
  {
   "cell_type": "code",
   "execution_count": null,
   "id": "482e5ce8-728c-4307-9046-83c41980cb4c",
   "metadata": {},
   "outputs": [],
   "source": [
    "maskt2 = (df2['prix'] > 20000000) & (df2['type'] == 'Villa et Riad') \n",
    "df2 = df2[~maskt2]"
   ]
  },
  {
   "cell_type": "code",
   "execution_count": null,
   "id": "4f54d505-06d4-4aed-9197-bfcbc9105404",
   "metadata": {},
   "outputs": [],
   "source": [
    "df2.shape"
   ]
  },
  {
   "cell_type": "code",
   "execution_count": null,
   "id": "6a009ee8-2172-4f2f-a216-bd2c634e0b63",
   "metadata": {},
   "outputs": [],
   "source": [
    "df7 = df2.groupby('type')['type'].agg('count')"
   ]
  },
  {
   "cell_type": "code",
   "execution_count": null,
   "id": "412aa77b-3c10-431e-bad6-253597172e31",
   "metadata": {},
   "outputs": [],
   "source": [
    "ville_counts = df2['ville'].value_counts()\n",
    "valid_villes = ville_counts[ville_counts >= 20].index\n",
    "valid_villes"
   ]
  },
  {
   "cell_type": "code",
   "execution_count": null,
   "id": "51b45459-08b5-4199-a8ce-29f26f39037f",
   "metadata": {},
   "outputs": [],
   "source": [
    "df2['ville'].value_counts()"
   ]
  },
  {
   "cell_type": "code",
   "execution_count": null,
   "id": "ba9ea2e5-0f5e-431c-8cf4-77212c6c60d4",
   "metadata": {},
   "outputs": [],
   "source": [
    "df2 = df2[df2['ville'].isin(valid_villes)]\n",
    "df2.shape\n",
    "df2['ville'].value_counts()"
   ]
  },
  {
   "cell_type": "code",
   "execution_count": null,
   "id": "ce062131-0722-4a95-8e7d-535211d2a758",
   "metadata": {},
   "outputs": [],
   "source": [
    "from sklearn.model_selection import train_test_split\n",
    "from sklearn.preprocessing import StandardScaler, OneHotEncoder\n",
    "from sklearn.compose import ColumnTransformer\n",
    "from sklearn.pipeline import Pipeline\n",
    "import xgboost as xgb\n",
    "import numpy as np\n",
    "from sklearn.metrics import mean_absolute_percentage_error, r2_score\n",
    "import pickle\n",
    "# More aggressive outlier removal\n",
    "def remove_outliers(df, price_column='prix'):\n",
    "    Q1 = df[price_column].quantile(0.05)\n",
    "    Q3 = df[price_column].quantile(0.95)\n",
    "    df = df[(df[price_column] >= Q1) & (df[price_column] <= Q3)]\n",
    "    \n",
    "    # Remove outliers from superficie\n",
    "    Q1_sup = df['superficie en m²'].quantile(0.05)\n",
    "    Q3_sup = df['superficie en m²'].quantile(0.95)\n",
    "    return df[(df['superficie en m²'] >= Q1_sup) & (df['superficie en m²'] <= Q3_sup)]\n",
    "\n",
    "# Clean data\n",
    "df_cleaned = remove_outliers(df2)\n",
    "print(f\"Original shape: {df2.shape}, After removing outliers: {df_cleaned.shape}\")\n",
    "\n",
    "# Safe feature engineering\n",
    "def safe_division(a, b):\n",
    "    return np.where(b > 0, a / b, 0)\n",
    "\n",
    "# Feature engineering\n",
    "df_cleaned['rooms_per_bath'] = safe_division(df_cleaned['chambres'], df_cleaned['salles_de_bain'])\n",
    "\n",
    "# Remove any remaining infinite values\n",
    "df_cleaned = df_cleaned.replace([np.inf, -np.inf], np.nan).dropna()\n",
    "\n",
    "# Define features\n",
    "numeric_features = ['chambres', 'salles_de_bain', 'superficie en m²', \n",
    "                    'rooms_per_bath']\n",
    "categorical_features = ['type', 'ville']\n",
    "\n",
    "# Create preprocessing steps\n",
    "preprocessor = ColumnTransformer(\n",
    "    transformers=[\n",
    "        ('num', StandardScaler(), numeric_features),\n",
    "        ('cat', OneHotEncoder(drop='first', sparse_output=False), categorical_features)\n",
    "    ])\n",
    "\n",
    "# Create pipeline with tuned XGBoost\n",
    "model = Pipeline([\n",
    "    ('preprocessor', preprocessor),\n",
    "    ('regressor', xgb.XGBRegressor(\n",
    "        n_estimators=300,\n",
    "        learning_rate=0.03,\n",
    "        max_depth=6,\n",
    "        min_child_weight=2,\n",
    "        subsample=0.8,\n",
    "        colsample_bytree=0.8,\n",
    "        reg_alpha=0.1,\n",
    "        reg_lambda=1.0,\n",
    "        random_state=42,\n",
    "        tree_method='hist'\n",
    "    ))\n",
    "])\n",
    "\n",
    "# Prepare data\n",
    "X = df_cleaned[numeric_features + categorical_features]\n",
    "y = df_cleaned['prix']\n",
    "\n",
    "# Log transform target variable\n",
    "y = np.log1p(y)\n",
    "\n",
    "# Split data\n",
    "X_train, X_test, y_train, y_test = train_test_split(X, y, test_size=0.2, random_state=42)\n",
    "\n",
    "# Fit model\n",
    "model.fit(X_train, y_train)\n",
    "\n",
    "# Make predictions and inverse transform\n",
    "y_pred = np.expm1(model.predict(X_test))\n",
    "y_test = np.expm1(y_test)\n",
    "\n",
    "# Calculate metrics\n",
    "r2 = r2_score(y_test, y_pred)\n",
    "mape = mean_absolute_percentage_error(y_test, y_pred)\n",
    "\n",
    "print(f\"Model R² Score: {r2}\")\n",
    "print(f\"Mean Absolute Percentage Error: {mape*100:.2f}%\")\n",
    "\n",
    "# Print some predictions\n",
    "print(\"\\nSample Predictions vs Actual:\")\n",
    "for pred, actual in zip(y_pred[:5], y_test[:5]):\n",
    "    print(f\"Predicted: {pred:,.0f}, Actual: {actual:,.0f}\")\n",
    "    print(f\"Difference: {abs(pred-actual):,.0f} ({abs(pred-actual)/actual*100:.1f}%)\")\n",
    "\n",
    "# Save model\n",
    "with open('model_abdo.pkl', 'wb') as f:\n",
    "    pickle.dump((model, numeric_features, categorical_features), f)"
   ]
  },
  {
   "cell_type": "code",
   "execution_count": null,
   "id": "faf36412-4914-4dd0-8fd6-50c06aae6f5d",
   "metadata": {},
   "outputs": [],
   "source": [
    "# Print data statistics\n",
    "print(\"\\nTraining Data Statistics:\")\n",
    "print(\"\\nNumerical Features Statistics:\")\n",
    "print(df_cleaned[numeric_features].describe())\n",
    "\n",
    "print(\"\\nPrice Distribution by Type:\")\n",
    "for t in df_cleaned['type'].unique():\n",
    "    prices = df_cleaned[df_cleaned['type'] == t]['prix']\n",
    "    print(f\"\\n{t}:\")\n",
    "    print(f\"Min: {prices.min():,.0f}\")\n",
    "    print(f\"Max: {prices.max():,.0f}\")\n",
    "    print(f\"Mean: {prices.mean():,.0f}\")\n",
    "    print(f\"Median: {prices.median():,.0f}\")\n",
    "\n",
    "print(\"\\nPrice Distribution by City (Top 5 cities):\")\n",
    "for city in df_cleaned['ville'].value_counts().head().index:\n",
    "    prices = df_cleaned[df_cleaned['ville'] == city]['prix']\n",
    "    print(f\"\\n{city}:\")\n",
    "    print(f\"Min: {prices.min():,.0f}\")\n",
    "    print(f\"Max: {prices.max():,.0f}\")\n",
    "    print(f\"Mean: {prices.mean():,.0f}\")\n",
    "    print(f\"Median: {prices.median():,.0f}\")\n",
    "\n",
    "# Print a few sample rows\n",
    "print(\"\\nSample Rows:\")\n",
    "print(df_cleaned.head())"
   ]
  }
 ],
 "metadata": {
  "kernelspec": {
   "display_name": "Python 3 (ipykernel)",
   "language": "python",
   "name": "python3"
  },
  "language_info": {
   "codemirror_mode": {
    "name": "ipython",
    "version": 3
   },
   "file_extension": ".py",
   "mimetype": "text/x-python",
   "name": "python",
   "nbconvert_exporter": "python",
   "pygments_lexer": "ipython3",
   "version": "3.11.2"
  }
 },
 "nbformat": 4,
 "nbformat_minor": 5
}
